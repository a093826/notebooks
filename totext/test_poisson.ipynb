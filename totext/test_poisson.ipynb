{
 "cells": [
  {
   "cell_type": "markdown",
   "metadata": {},
   "source": [
    "As shown in this github issue: https://github.com/scikit-learn/scikit-learn/issues/5975\n",
    "\n",
    "I've had many arguements that for poisson regression Counts/Exposures is equivalent to handling the offsets in the optimization loop explicitly. This isn't true as shown later on in this notebook.\n",
    "\n",
    "The notebook also shows how to do poisson regression with offsets in tensorflow. Pretty baller right."
   ]
  },
  {
   "cell_type": "code",
   "execution_count": 1,
   "metadata": {
    "collapsed": true
   },
   "outputs": [],
   "source": [
    "import numpy as np\n",
    "import pandas as pd"
   ]
  },
  {
   "cell_type": "code",
   "execution_count": 180,
   "metadata": {},
   "outputs": [],
   "source": [
    "np.random.seed(333)\n",
    "n = 1000000\n",
    "df = pd.DataFrame(\n",
    "    np.random.normal(np.tile(np.arange(10), n), np.tile(np.arange(1, 11) * 2, n), (n * 10)).reshape((n, 10)) / 100)\n",
    "wts = np.array([-0.1, -0.2, 0, 0, 0.1, 0.2, 0.3, 0.0, 0.25, 0.5])\n",
    "df['y'] = (df.values * wts).sum(axis=1)\n",
    "df['rate'] = np.exp(df['y'])"
   ]
  },
  {
   "cell_type": "code",
   "execution_count": 181,
   "metadata": {},
   "outputs": [
    {
     "data": {
      "text/html": [
       "<div>\n",
       "<style>\n",
       "    .dataframe thead tr:only-child th {\n",
       "        text-align: right;\n",
       "    }\n",
       "\n",
       "    .dataframe thead th {\n",
       "        text-align: left;\n",
       "    }\n",
       "\n",
       "    .dataframe tbody tr th {\n",
       "        vertical-align: top;\n",
       "    }\n",
       "</style>\n",
       "<table border=\"1\" class=\"dataframe\">\n",
       "  <thead>\n",
       "    <tr style=\"text-align: right;\">\n",
       "      <th></th>\n",
       "      <th>0</th>\n",
       "      <th>1</th>\n",
       "      <th>2</th>\n",
       "      <th>3</th>\n",
       "      <th>4</th>\n",
       "      <th>5</th>\n",
       "      <th>6</th>\n",
       "      <th>7</th>\n",
       "      <th>8</th>\n",
       "      <th>9</th>\n",
       "      <th>y</th>\n",
       "      <th>rate</th>\n",
       "    </tr>\n",
       "  </thead>\n",
       "  <tbody>\n",
       "    <tr>\n",
       "      <th>count</th>\n",
       "      <td>1000000.000000</td>\n",
       "      <td>1000000.000000</td>\n",
       "      <td>1000000.000000</td>\n",
       "      <td>1000000.000000</td>\n",
       "      <td>1000000.000000</td>\n",
       "      <td>1000000.000000</td>\n",
       "      <td>1000000.000000</td>\n",
       "      <td>1000000.000000</td>\n",
       "      <td>1000000.000000</td>\n",
       "      <td>1000000.000000</td>\n",
       "      <td>1000000.000000</td>\n",
       "      <td>1000000.000000</td>\n",
       "    </tr>\n",
       "    <tr>\n",
       "      <th>mean</th>\n",
       "      <td>-0.000003</td>\n",
       "      <td>0.009928</td>\n",
       "      <td>0.020052</td>\n",
       "      <td>0.029953</td>\n",
       "      <td>0.039883</td>\n",
       "      <td>0.050059</td>\n",
       "      <td>0.060012</td>\n",
       "      <td>0.070168</td>\n",
       "      <td>0.080178</td>\n",
       "      <td>0.090096</td>\n",
       "      <td>0.095111</td>\n",
       "      <td>1.107802</td>\n",
       "    </tr>\n",
       "    <tr>\n",
       "      <th>std</th>\n",
       "      <td>0.020028</td>\n",
       "      <td>0.040016</td>\n",
       "      <td>0.060064</td>\n",
       "      <td>0.080018</td>\n",
       "      <td>0.099852</td>\n",
       "      <td>0.120065</td>\n",
       "      <td>0.140026</td>\n",
       "      <td>0.159790</td>\n",
       "      <td>0.180064</td>\n",
       "      <td>0.199852</td>\n",
       "      <td>0.120557</td>\n",
       "      <td>0.134044</td>\n",
       "    </tr>\n",
       "    <tr>\n",
       "      <th>min</th>\n",
       "      <td>-0.105630</td>\n",
       "      <td>-0.209110</td>\n",
       "      <td>-0.309568</td>\n",
       "      <td>-0.352887</td>\n",
       "      <td>-0.421594</td>\n",
       "      <td>-0.500034</td>\n",
       "      <td>-0.681308</td>\n",
       "      <td>-0.690213</td>\n",
       "      <td>-0.801777</td>\n",
       "      <td>-0.907063</td>\n",
       "      <td>-0.481539</td>\n",
       "      <td>0.617832</td>\n",
       "    </tr>\n",
       "    <tr>\n",
       "      <th>25%</th>\n",
       "      <td>-0.013521</td>\n",
       "      <td>-0.017128</td>\n",
       "      <td>-0.020421</td>\n",
       "      <td>-0.024039</td>\n",
       "      <td>-0.027489</td>\n",
       "      <td>-0.030903</td>\n",
       "      <td>-0.034518</td>\n",
       "      <td>-0.037456</td>\n",
       "      <td>-0.041322</td>\n",
       "      <td>-0.044670</td>\n",
       "      <td>0.013792</td>\n",
       "      <td>1.013888</td>\n",
       "    </tr>\n",
       "    <tr>\n",
       "      <th>50%</th>\n",
       "      <td>-0.000023</td>\n",
       "      <td>0.009892</td>\n",
       "      <td>0.020028</td>\n",
       "      <td>0.029904</td>\n",
       "      <td>0.039912</td>\n",
       "      <td>0.050219</td>\n",
       "      <td>0.060004</td>\n",
       "      <td>0.070210</td>\n",
       "      <td>0.079852</td>\n",
       "      <td>0.090129</td>\n",
       "      <td>0.095101</td>\n",
       "      <td>1.099770</td>\n",
       "    </tr>\n",
       "    <tr>\n",
       "      <th>75%</th>\n",
       "      <td>0.013515</td>\n",
       "      <td>0.036934</td>\n",
       "      <td>0.060464</td>\n",
       "      <td>0.083954</td>\n",
       "      <td>0.107181</td>\n",
       "      <td>0.131026</td>\n",
       "      <td>0.154161</td>\n",
       "      <td>0.178102</td>\n",
       "      <td>0.201702</td>\n",
       "      <td>0.224866</td>\n",
       "      <td>0.176557</td>\n",
       "      <td>1.193102</td>\n",
       "    </tr>\n",
       "    <tr>\n",
       "      <th>max</th>\n",
       "      <td>0.095576</td>\n",
       "      <td>0.200082</td>\n",
       "      <td>0.317362</td>\n",
       "      <td>0.410525</td>\n",
       "      <td>0.560201</td>\n",
       "      <td>0.682567</td>\n",
       "      <td>0.761380</td>\n",
       "      <td>0.846154</td>\n",
       "      <td>0.957091</td>\n",
       "      <td>1.058712</td>\n",
       "      <td>0.673366</td>\n",
       "      <td>1.960826</td>\n",
       "    </tr>\n",
       "  </tbody>\n",
       "</table>\n",
       "</div>"
      ],
      "text/plain": [
       "                    0               1               2               3  \\\n",
       "count  1000000.000000  1000000.000000  1000000.000000  1000000.000000   \n",
       "mean        -0.000003        0.009928        0.020052        0.029953   \n",
       "std          0.020028        0.040016        0.060064        0.080018   \n",
       "min         -0.105630       -0.209110       -0.309568       -0.352887   \n",
       "25%         -0.013521       -0.017128       -0.020421       -0.024039   \n",
       "50%         -0.000023        0.009892        0.020028        0.029904   \n",
       "75%          0.013515        0.036934        0.060464        0.083954   \n",
       "max          0.095576        0.200082        0.317362        0.410525   \n",
       "\n",
       "                    4               5               6               7  \\\n",
       "count  1000000.000000  1000000.000000  1000000.000000  1000000.000000   \n",
       "mean         0.039883        0.050059        0.060012        0.070168   \n",
       "std          0.099852        0.120065        0.140026        0.159790   \n",
       "min         -0.421594       -0.500034       -0.681308       -0.690213   \n",
       "25%         -0.027489       -0.030903       -0.034518       -0.037456   \n",
       "50%          0.039912        0.050219        0.060004        0.070210   \n",
       "75%          0.107181        0.131026        0.154161        0.178102   \n",
       "max          0.560201        0.682567        0.761380        0.846154   \n",
       "\n",
       "                    8               9               y            rate  \n",
       "count  1000000.000000  1000000.000000  1000000.000000  1000000.000000  \n",
       "mean         0.080178        0.090096        0.095111        1.107802  \n",
       "std          0.180064        0.199852        0.120557        0.134044  \n",
       "min         -0.801777       -0.907063       -0.481539        0.617832  \n",
       "25%         -0.041322       -0.044670        0.013792        1.013888  \n",
       "50%          0.079852        0.090129        0.095101        1.099770  \n",
       "75%          0.201702        0.224866        0.176557        1.193102  \n",
       "max          0.957091        1.058712        0.673366        1.960826  "
      ]
     },
     "execution_count": 181,
     "metadata": {},
     "output_type": "execute_result"
    }
   ],
   "source": [
    "df.describe()"
   ]
  },
  {
   "cell_type": "code",
   "execution_count": 182,
   "metadata": {},
   "outputs": [
    {
     "data": {
      "text/plain": [
       "<matplotlib.axes._subplots.AxesSubplot at 0x7f27c1823048>"
      ]
     },
     "execution_count": 182,
     "metadata": {},
     "output_type": "execute_result"
    },
    {
     "data": {
      "image/png": "[encoded data removed]",
      "text/plain": [
       "<matplotlib.figure.Figure at 0x7f27c1cdb208>"
      ]
     },
     "metadata": {},
     "output_type": "display_data"
    }
   ],
   "source": [
    "%matplotlib inline\n",
    "df.rate.hist()"
   ]
  },
  {
   "cell_type": "code",
   "execution_count": 183,
   "metadata": {
    "collapsed": true
   },
   "outputs": [],
   "source": [
    "df['offset'] = np.random.randint(1, 10, n)"
   ]
  },
  {
   "cell_type": "code",
   "execution_count": 184,
   "metadata": {
    "scrolled": true
   },
   "outputs": [
    {
     "data": {
      "text/plain": [
       "<matplotlib.axes._subplots.AxesSubplot at 0x7f27c17e1d68>"
      ]
     },
     "execution_count": 184,
     "metadata": {},
     "output_type": "execute_result"
    },
    {
     "data": {
      "image/png": "[encoded data removed]",
      "text/plain": [
       "<matplotlib.figure.Figure at 0x7f27c17578d0>"
      ]
     },
     "metadata": {},
     "output_type": "display_data"
    }
   ],
   "source": [
    "(np.random.poisson(df['rate'], (10, n)).T.mean(axis=1) - df.rate).hist()"
   ]
  },
  {
   "cell_type": "code",
   "execution_count": 185,
   "metadata": {},
   "outputs": [
    {
     "data": {
      "text/plain": [
       "<matplotlib.axes._subplots.AxesSubplot at 0x7f27c1993358>"
      ]
     },
     "execution_count": 185,
     "metadata": {},
     "output_type": "execute_result"
    },
    {
     "data": {
      "image/png": "[encoded data removed]",
      "text/plain": [
       "<matplotlib.figure.Figure at 0x7f27c17d2978>"
      ]
     },
     "metadata": {},
     "output_type": "display_data"
    }
   ],
   "source": [
    "df['cnt'] = np.random.poisson(df['rate'])\n",
    "df.cnt.hist()"
   ]
  },
  {
   "cell_type": "code",
   "execution_count": 187,
   "metadata": {},
   "outputs": [
    {
     "data": {
      "text/html": [
       "<table class=\"simpletable\">\n",
       "<caption>Generalized Linear Model Regression Results</caption>\n",
       "<tr>\n",
       "  <th>Dep. Variable:</th>         <td>cnt</td>       <th>  No. Observations:  </th>   <td>1000000</td>  \n",
       "</tr>\n",
       "<tr>\n",
       "  <th>Model:</th>                 <td>GLM</td>       <th>  Df Residuals:      </th>   <td>999990</td>   \n",
       "</tr>\n",
       "<tr>\n",
       "  <th>Model Family:</th>        <td>Poisson</td>     <th>  Df Model:          </th>   <td>     9</td>   \n",
       "</tr>\n",
       "<tr>\n",
       "  <th>Link Function:</th>         <td>log</td>       <th>  Scale:             </th>     <td>1.0</td>    \n",
       "</tr>\n",
       "<tr>\n",
       "  <th>Method:</th>               <td>IRLS</td>       <th>  Log-Likelihood:    </th> <td>-1.3606e+06</td>\n",
       "</tr>\n",
       "<tr>\n",
       "  <th>Date:</th>           <td>Mon, 12 Feb 2018</td> <th>  Deviance:          </th> <td>1.1522e+06</td> \n",
       "</tr>\n",
       "<tr>\n",
       "  <th>Time:</th>               <td>21:18:44</td>     <th>  Pearson chi2:      </th>  <td>1.00e+06</td>  \n",
       "</tr>\n",
       "<tr>\n",
       "  <th>No. Iterations:</th>         <td>5</td>        <th>                     </th>      <td> </td>     \n",
       "</tr>\n",
       "</table>\n",
       "<table class=\"simpletable\">\n",
       "<tr>\n",
       "  <td></td>     <th>coef</th>     <th>std err</th>      <th>z</th>      <th>P>|z|</th>  <th>[0.025</th>    <th>0.975]</th>  \n",
       "</tr>\n",
       "<tr>\n",
       "  <th>0</th> <td>   -0.1093</td> <td>    0.047</td> <td>   -2.303</td> <td> 0.021</td> <td>   -0.202</td> <td>   -0.016</td>\n",
       "</tr>\n",
       "<tr>\n",
       "  <th>1</th> <td>   -0.2031</td> <td>    0.023</td> <td>   -8.646</td> <td> 0.000</td> <td>   -0.249</td> <td>   -0.157</td>\n",
       "</tr>\n",
       "<tr>\n",
       "  <th>2</th> <td>    0.0097</td> <td>    0.015</td> <td>    0.626</td> <td> 0.531</td> <td>   -0.021</td> <td>    0.040</td>\n",
       "</tr>\n",
       "<tr>\n",
       "  <th>3</th> <td>    0.0008</td> <td>    0.012</td> <td>    0.069</td> <td> 0.945</td> <td>   -0.022</td> <td>    0.023</td>\n",
       "</tr>\n",
       "<tr>\n",
       "  <th>4</th> <td>    0.0944</td> <td>    0.009</td> <td>   10.253</td> <td> 0.000</td> <td>    0.076</td> <td>    0.112</td>\n",
       "</tr>\n",
       "<tr>\n",
       "  <th>5</th> <td>    0.1912</td> <td>    0.008</td> <td>   25.097</td> <td> 0.000</td> <td>    0.176</td> <td>    0.206</td>\n",
       "</tr>\n",
       "<tr>\n",
       "  <th>6</th> <td>    0.3053</td> <td>    0.006</td> <td>   47.020</td> <td> 0.000</td> <td>    0.293</td> <td>    0.318</td>\n",
       "</tr>\n",
       "<tr>\n",
       "  <th>7</th> <td>   -0.0041</td> <td>    0.006</td> <td>   -0.716</td> <td> 0.474</td> <td>   -0.015</td> <td>    0.007</td>\n",
       "</tr>\n",
       "<tr>\n",
       "  <th>8</th> <td>    0.2543</td> <td>    0.005</td> <td>   50.560</td> <td> 0.000</td> <td>    0.244</td> <td>    0.264</td>\n",
       "</tr>\n",
       "<tr>\n",
       "  <th>9</th> <td>    0.4978</td> <td>    0.004</td> <td>  111.282</td> <td> 0.000</td> <td>    0.489</td> <td>    0.507</td>\n",
       "</tr>\n",
       "</table>"
      ],
      "text/plain": [
       "<class 'statsmodels.iolib.summary.Summary'>\n",
       "\"\"\"\n",
       "                 Generalized Linear Model Regression Results                  \n",
       "==============================================================================\n",
       "Dep. Variable:                    cnt   No. Observations:              1000000\n",
       "Model:                            GLM   Df Residuals:                   999990\n",
       "Model Family:                 Poisson   Df Model:                            9\n",
       "Link Function:                    log   Scale:                             1.0\n",
       "Method:                          IRLS   Log-Likelihood:            -1.3606e+06\n",
       "Date:                Mon, 12 Feb 2018   Deviance:                   1.1522e+06\n",
       "Time:                        21:18:44   Pearson chi2:                 1.00e+06\n",
       "No. Iterations:                     5                                         \n",
       "==============================================================================\n",
       "                 coef    std err          z      P>|z|      [0.025      0.975]\n",
       "------------------------------------------------------------------------------\n",
       "0             -0.1093      0.047     -2.303      0.021      -0.202      -0.016\n",
       "1             -0.2031      0.023     -8.646      0.000      -0.249      -0.157\n",
       "2              0.0097      0.015      0.626      0.531      -0.021       0.040\n",
       "3              0.0008      0.012      0.069      0.945      -0.022       0.023\n",
       "4              0.0944      0.009     10.253      0.000       0.076       0.112\n",
       "5              0.1912      0.008     25.097      0.000       0.176       0.206\n",
       "6              0.3053      0.006     47.020      0.000       0.293       0.318\n",
       "7             -0.0041      0.006     -0.716      0.474      -0.015       0.007\n",
       "8              0.2543      0.005     50.560      0.000       0.244       0.264\n",
       "9              0.4978      0.004    111.282      0.000       0.489       0.507\n",
       "==============================================================================\n",
       "\"\"\""
      ]
     },
     "execution_count": 187,
     "metadata": {},
     "output_type": "execute_result"
    }
   ],
   "source": [
    "import statsmodels.api as sm\n",
    "\n",
    "\n",
    "mod = sm.GLM(df['cnt'], df[np.arange(10)], family=sm.families.Poisson())\n",
    "\n",
    "mod = mod.fit()\n",
    "\n",
    "mod.summary()"
   ]
  },
  {
   "cell_type": "code",
   "execution_count": 188,
   "metadata": {},
   "outputs": [],
   "source": [
    "df['cnt'] = [np.random.poisson(rate, offset).sum() for rate, offset in zip(df['rate'], df['offset'])]"
   ]
  },
  {
   "cell_type": "code",
   "execution_count": 189,
   "metadata": {},
   "outputs": [
    {
     "data": {
      "text/plain": [
       "<matplotlib.axes._subplots.AxesSubplot at 0x7f27c2181cf8>"
      ]
     },
     "execution_count": 189,
     "metadata": {},
     "output_type": "execute_result"
    },
    {
     "data": {
      "image/png": "[encoded data removed]",
      "text/plain": [
       "<matplotlib.figure.Figure at 0x7f27c16d4a90>"
      ]
     },
     "metadata": {},
     "output_type": "display_data"
    }
   ],
   "source": [
    "df.cnt.hist()"
   ]
  },
  {
   "cell_type": "code",
   "execution_count": 192,
   "metadata": {},
   "outputs": [
    {
     "data": {
      "text/html": [
       "<table class=\"simpletable\">\n",
       "<caption>Generalized Linear Model Regression Results</caption>\n",
       "<tr>\n",
       "  <th>Dep. Variable:</th>         <td>cnt</td>       <th>  No. Observations:  </th>   <td>1000000</td>  \n",
       "</tr>\n",
       "<tr>\n",
       "  <th>Model:</th>                 <td>GLM</td>       <th>  Df Residuals:      </th>   <td>999990</td>   \n",
       "</tr>\n",
       "<tr>\n",
       "  <th>Model Family:</th>        <td>Poisson</td>     <th>  Df Model:          </th>   <td>     9</td>   \n",
       "</tr>\n",
       "<tr>\n",
       "  <th>Link Function:</th>         <td>log</td>       <th>  Scale:             </th>     <td>1.0</td>    \n",
       "</tr>\n",
       "<tr>\n",
       "  <th>Method:</th>               <td>IRLS</td>       <th>  Log-Likelihood:    </th> <td>-2.1458e+06</td>\n",
       "</tr>\n",
       "<tr>\n",
       "  <th>Date:</th>           <td>Mon, 12 Feb 2018</td> <th>  Deviance:          </th> <td>1.0616e+06</td> \n",
       "</tr>\n",
       "<tr>\n",
       "  <th>Time:</th>               <td>21:19:50</td>     <th>  Pearson chi2:      </th>  <td>9.98e+05</td>  \n",
       "</tr>\n",
       "<tr>\n",
       "  <th>No. Iterations:</th>         <td>5</td>        <th>                     </th>      <td> </td>     \n",
       "</tr>\n",
       "</table>\n",
       "<table class=\"simpletable\">\n",
       "<tr>\n",
       "  <td></td>     <th>coef</th>     <th>std err</th>      <th>z</th>      <th>P>|z|</th>  <th>[0.025</th>    <th>0.975]</th>  \n",
       "</tr>\n",
       "<tr>\n",
       "  <th>0</th> <td>   -0.0757</td> <td>    0.021</td> <td>   -3.569</td> <td> 0.000</td> <td>   -0.117</td> <td>   -0.034</td>\n",
       "</tr>\n",
       "<tr>\n",
       "  <th>1</th> <td>   -0.2146</td> <td>    0.011</td> <td>  -20.415</td> <td> 0.000</td> <td>   -0.235</td> <td>   -0.194</td>\n",
       "</tr>\n",
       "<tr>\n",
       "  <th>2</th> <td>   -0.0060</td> <td>    0.007</td> <td>   -0.870</td> <td> 0.384</td> <td>   -0.020</td> <td>    0.008</td>\n",
       "</tr>\n",
       "<tr>\n",
       "  <th>3</th> <td>   -0.0071</td> <td>    0.005</td> <td>   -1.369</td> <td> 0.171</td> <td>   -0.017</td> <td>    0.003</td>\n",
       "</tr>\n",
       "<tr>\n",
       "  <th>4</th> <td>    0.1057</td> <td>    0.004</td> <td>   25.683</td> <td> 0.000</td> <td>    0.098</td> <td>    0.114</td>\n",
       "</tr>\n",
       "<tr>\n",
       "  <th>5</th> <td>    0.2010</td> <td>    0.003</td> <td>   59.013</td> <td> 0.000</td> <td>    0.194</td> <td>    0.208</td>\n",
       "</tr>\n",
       "<tr>\n",
       "  <th>6</th> <td>    0.2976</td> <td>    0.003</td> <td>  102.507</td> <td> 0.000</td> <td>    0.292</td> <td>    0.303</td>\n",
       "</tr>\n",
       "<tr>\n",
       "  <th>7</th> <td>   -0.0033</td> <td>    0.003</td> <td>   -1.301</td> <td> 0.193</td> <td>   -0.008</td> <td>    0.002</td>\n",
       "</tr>\n",
       "<tr>\n",
       "  <th>8</th> <td>    0.2496</td> <td>    0.002</td> <td>  111.029</td> <td> 0.000</td> <td>    0.245</td> <td>    0.254</td>\n",
       "</tr>\n",
       "<tr>\n",
       "  <th>9</th> <td>    0.4987</td> <td>    0.002</td> <td>  249.294</td> <td> 0.000</td> <td>    0.495</td> <td>    0.503</td>\n",
       "</tr>\n",
       "</table>"
      ],
      "text/plain": [
       "<class 'statsmodels.iolib.summary.Summary'>\n",
       "\"\"\"\n",
       "                 Generalized Linear Model Regression Results                  \n",
       "==============================================================================\n",
       "Dep. Variable:                    cnt   No. Observations:              1000000\n",
       "Model:                            GLM   Df Residuals:                   999990\n",
       "Model Family:                 Poisson   Df Model:                            9\n",
       "Link Function:                    log   Scale:                             1.0\n",
       "Method:                          IRLS   Log-Likelihood:            -2.1458e+06\n",
       "Date:                Mon, 12 Feb 2018   Deviance:                   1.0616e+06\n",
       "Time:                        21:19:50   Pearson chi2:                 9.98e+05\n",
       "No. Iterations:                     5                                         \n",
       "==============================================================================\n",
       "                 coef    std err          z      P>|z|      [0.025      0.975]\n",
       "------------------------------------------------------------------------------\n",
       "0             -0.0757      0.021     -3.569      0.000      -0.117      -0.034\n",
       "1             -0.2146      0.011    -20.415      0.000      -0.235      -0.194\n",
       "2             -0.0060      0.007     -0.870      0.384      -0.020       0.008\n",
       "3             -0.0071      0.005     -1.369      0.171      -0.017       0.003\n",
       "4              0.1057      0.004     25.683      0.000       0.098       0.114\n",
       "5              0.2010      0.003     59.013      0.000       0.194       0.208\n",
       "6              0.2976      0.003    102.507      0.000       0.292       0.303\n",
       "7             -0.0033      0.003     -1.301      0.193      -0.008       0.002\n",
       "8              0.2496      0.002    111.029      0.000       0.245       0.254\n",
       "9              0.4987      0.002    249.294      0.000       0.495       0.503\n",
       "==============================================================================\n",
       "\"\"\""
      ]
     },
     "execution_count": 192,
     "metadata": {},
     "output_type": "execute_result"
    }
   ],
   "source": [
    "import statsmodels.api as sm\n",
    "\n",
    "\n",
    "mod = sm.GLM(df['cnt'], df[np.arange(10)], offset=np.log(df['offset']), family=sm.families.Poisson())\n",
    "\n",
    "mod = mod.fit()\n",
    "\n",
    "mod.summary()"
   ]
  },
  {
   "cell_type": "code",
   "execution_count": 194,
   "metadata": {},
   "outputs": [
    {
     "data": {
      "text/html": [
       "<table class=\"simpletable\">\n",
       "<caption>Generalized Linear Model Regression Results</caption>\n",
       "<tr>\n",
       "  <th>Dep. Variable:</th>          <td>y</td>        <th>  No. Observations:  </th>   <td>1000000</td>  \n",
       "</tr>\n",
       "<tr>\n",
       "  <th>Model:</th>                 <td>GLM</td>       <th>  Df Residuals:      </th>   <td>999990</td>   \n",
       "</tr>\n",
       "<tr>\n",
       "  <th>Model Family:</th>        <td>Poisson</td>     <th>  Df Model:          </th>   <td>     9</td>   \n",
       "</tr>\n",
       "<tr>\n",
       "  <th>Link Function:</th>         <td>log</td>       <th>  Scale:             </th>     <td>1.0</td>    \n",
       "</tr>\n",
       "<tr>\n",
       "  <th>Method:</th>               <td>IRLS</td>       <th>  Log-Likelihood:    </th> <td>-1.1432e+06</td>\n",
       "</tr>\n",
       "<tr>\n",
       "  <th>Date:</th>           <td>Mon, 12 Feb 2018</td> <th>  Deviance:          </th> <td>3.4568e+05</td> \n",
       "</tr>\n",
       "<tr>\n",
       "  <th>Time:</th>               <td>21:25:05</td>     <th>  Pearson chi2:      </th>  <td>3.14e+05</td>  \n",
       "</tr>\n",
       "<tr>\n",
       "  <th>No. Iterations:</th>         <td>5</td>        <th>                     </th>      <td> </td>     \n",
       "</tr>\n",
       "</table>\n",
       "<table class=\"simpletable\">\n",
       "<tr>\n",
       "  <td></td>     <th>coef</th>     <th>std err</th>      <th>z</th>      <th>P>|z|</th>  <th>[0.025</th>    <th>0.975]</th>  \n",
       "</tr>\n",
       "<tr>\n",
       "  <th>0</th> <td>   -0.0644</td> <td>    0.047</td> <td>   -1.357</td> <td> 0.175</td> <td>   -0.157</td> <td>    0.029</td>\n",
       "</tr>\n",
       "<tr>\n",
       "  <th>1</th> <td>   -0.2159</td> <td>    0.023</td> <td>   -9.191</td> <td> 0.000</td> <td>   -0.262</td> <td>   -0.170</td>\n",
       "</tr>\n",
       "<tr>\n",
       "  <th>2</th> <td>   -0.0064</td> <td>    0.015</td> <td>   -0.411</td> <td> 0.681</td> <td>   -0.037</td> <td>    0.024</td>\n",
       "</tr>\n",
       "<tr>\n",
       "  <th>3</th> <td>   -0.0102</td> <td>    0.012</td> <td>   -0.883</td> <td> 0.377</td> <td>   -0.033</td> <td>    0.012</td>\n",
       "</tr>\n",
       "<tr>\n",
       "  <th>4</th> <td>    0.1066</td> <td>    0.009</td> <td>   11.574</td> <td> 0.000</td> <td>    0.089</td> <td>    0.125</td>\n",
       "</tr>\n",
       "<tr>\n",
       "  <th>5</th> <td>    0.1994</td> <td>    0.008</td> <td>   26.177</td> <td> 0.000</td> <td>    0.184</td> <td>    0.214</td>\n",
       "</tr>\n",
       "<tr>\n",
       "  <th>6</th> <td>    0.2994</td> <td>    0.006</td> <td>   46.098</td> <td> 0.000</td> <td>    0.287</td> <td>    0.312</td>\n",
       "</tr>\n",
       "<tr>\n",
       "  <th>7</th> <td>   -0.0018</td> <td>    0.006</td> <td>   -0.317</td> <td> 0.752</td> <td>   -0.013</td> <td>    0.009</td>\n",
       "</tr>\n",
       "<tr>\n",
       "  <th>8</th> <td>    0.2511</td> <td>    0.005</td> <td>   49.914</td> <td> 0.000</td> <td>    0.241</td> <td>    0.261</td>\n",
       "</tr>\n",
       "<tr>\n",
       "  <th>9</th> <td>    0.4991</td> <td>    0.004</td> <td>  111.565</td> <td> 0.000</td> <td>    0.490</td> <td>    0.508</td>\n",
       "</tr>\n",
       "</table>"
      ],
      "text/plain": [
       "<class 'statsmodels.iolib.summary.Summary'>\n",
       "\"\"\"\n",
       "                 Generalized Linear Model Regression Results                  \n",
       "==============================================================================\n",
       "Dep. Variable:                      y   No. Observations:              1000000\n",
       "Model:                            GLM   Df Residuals:                   999990\n",
       "Model Family:                 Poisson   Df Model:                            9\n",
       "Link Function:                    log   Scale:                             1.0\n",
       "Method:                          IRLS   Log-Likelihood:            -1.1432e+06\n",
       "Date:                Mon, 12 Feb 2018   Deviance:                   3.4568e+05\n",
       "Time:                        21:25:05   Pearson chi2:                 3.14e+05\n",
       "No. Iterations:                     5                                         \n",
       "==============================================================================\n",
       "                 coef    std err          z      P>|z|      [0.025      0.975]\n",
       "------------------------------------------------------------------------------\n",
       "0             -0.0644      0.047     -1.357      0.175      -0.157       0.029\n",
       "1             -0.2159      0.023     -9.191      0.000      -0.262      -0.170\n",
       "2             -0.0064      0.015     -0.411      0.681      -0.037       0.024\n",
       "3             -0.0102      0.012     -0.883      0.377      -0.033       0.012\n",
       "4              0.1066      0.009     11.574      0.000       0.089       0.125\n",
       "5              0.1994      0.008     26.177      0.000       0.184       0.214\n",
       "6              0.2994      0.006     46.098      0.000       0.287       0.312\n",
       "7             -0.0018      0.006     -0.317      0.752      -0.013       0.009\n",
       "8              0.2511      0.005     49.914      0.000       0.241       0.261\n",
       "9              0.4991      0.004    111.565      0.000       0.490       0.508\n",
       "==============================================================================\n",
       "\"\"\""
      ]
     },
     "execution_count": 194,
     "metadata": {},
     "output_type": "execute_result"
    }
   ],
   "source": [
    "import statsmodels.api as sm\n",
    "\n",
    "\n",
    "mod = sm.GLM(df['cnt'] / df['offset'], df[np.arange(10)], family=sm.families.Poisson())\n",
    "\n",
    "mod = mod.fit()\n",
    "\n",
    "mod.summary()"
   ]
  },
  {
   "cell_type": "code",
   "execution_count": 327,
   "metadata": {},
   "outputs": [
    {
     "data": {
      "text/plain": [
       "<\n",
       "Distribution | poisson\n",
       "alpha | 0.50\n",
       "max_iter | 1000.00\n",
       "lambda: 0.50 to 0.01\n",
       ">"
      ]
     },
     "execution_count": 327,
     "metadata": {},
     "output_type": "execute_result"
    }
   ],
   "source": [
    "from pyglmnet import GLM\n",
    "\n",
    "# create an instance of the GLM class\n",
    "glm = GLM(distr='poisson')\n",
    "glm = glm.fit(df[np.arange(10)].values, df['cnt'].values/df['offset'].values)\n",
    "glm"
   ]
  },
  {
   "cell_type": "code",
   "execution_count": 328,
   "metadata": {},
   "outputs": [
    {
     "data": {
      "text/plain": [
       "{'Tau': None,\n",
       " 'alpha': 0.5,\n",
       " 'distr': 'poisson',\n",
       " 'eta': 4.0,\n",
       " 'group': None,\n",
       " 'learning_rate': 0.2,\n",
       " 'max_iter': 1000,\n",
       " 'random_state': 0,\n",
       " 'reg_lambda': array([ 0.5       ,  0.3237394 ,  0.2096144 ,  0.13572088,  0.08787639,\n",
       "         0.0568981 ,  0.03684031,  0.02385332,  0.01544452,  0.01      ]),\n",
       " 'score_metric': 'deviance',\n",
       " 'tol': 0.001,\n",
       " 'verbose': False}"
      ]
     },
     "execution_count": 328,
     "metadata": {},
     "output_type": "execute_result"
    }
   ],
   "source": [
    "glm.get_params()"
   ]
  },
  {
   "cell_type": "code",
   "execution_count": 313,
   "metadata": {},
   "outputs": [
    {
     "name": "stdout",
     "output_type": "stream",
     "text": [
      "_________________________________________________________________\n",
      "Layer (type)                 Output Shape              Param #   \n",
      "=================================================================\n",
      "input_32 (InputLayer)        (None, 10)                0         \n",
      "_________________________________________________________________\n",
      "dense_22 (Dense)             (None, 1)                 10        \n",
      "_________________________________________________________________\n",
      "lambda_18 (Lambda)           (None, 1)                 0         \n",
      "=================================================================\n",
      "Total params: 10\n",
      "Trainable params: 10\n",
      "Non-trainable params: 0\n",
      "_________________________________________________________________\n",
      "Epoch 1/1\n",
      "1000000/1000000 [==============================] - 25s 25us/step - loss: 0.9870\n"
     ]
    },
    {
     "data": {
      "text/plain": [
       "<keras.callbacks.History at 0x7f27b93bb898>"
      ]
     },
     "execution_count": 313,
     "metadata": {},
     "output_type": "execute_result"
    }
   ],
   "source": [
    "import keras\n",
    "\n",
    "inl = keras.layers.Input((10,))\n",
    "out = keras.layers.Dense(1, use_bias=False)(inl)\n",
    "out = keras.layers.Lambda(lambda x: keras.backend.exp(x))(out)\n",
    "model = keras.models.Model(inl, out)\n",
    "\n",
    "model.compile(keras.optimizers.Adam(1e-3), 'poisson')\n",
    "model.summary()\n",
    "model.fit(df[np.arange(10)], df['cnt']/df['offset'], verbose=1)"
   ]
  },
  {
   "cell_type": "code",
   "execution_count": 314,
   "metadata": {},
   "outputs": [
    {
     "data": {
      "text/plain": [
       "array([-0.05754524, -0.23257338,  0.00755339, -0.05471236,  0.12637407,\n",
       "        0.19810426,  0.2976492 , -0.01716288,  0.26042998,  0.51705188], dtype=float32)"
      ]
     },
     "execution_count": 314,
     "metadata": {},
     "output_type": "execute_result"
    }
   ],
   "source": [
    "model.get_weights()[0].ravel()"
   ]
  },
  {
   "cell_type": "code",
   "execution_count": null,
   "metadata": {},
   "outputs": [],
   "source": []
  },
  {
   "cell_type": "code",
   "execution_count": 310,
   "metadata": {},
   "outputs": [
    {
     "name": "stdout",
     "output_type": "stream",
     "text": [
      "__________________________________________________________________________________________________\n",
      "Layer (type)                    Output Shape         Param #     Connected to                     \n",
      "==================================================================================================\n",
      "input_29 (InputLayer)           (None, 10)           0                                            \n",
      "__________________________________________________________________________________________________\n",
      "dense_20 (Dense)                (None, 1)            10          input_29[0][0]                   \n",
      "__________________________________________________________________________________________________\n",
      "input_30 (InputLayer)           (None, 1)            0                                            \n",
      "__________________________________________________________________________________________________\n",
      "add_3 (Add)                     (None, 1)            0           dense_20[0][0]                   \n",
      "                                                                 input_30[0][0]                   \n",
      "__________________________________________________________________________________________________\n",
      "lambda_16 (Lambda)              (None, 1)            0           add_3[0][0]                      \n",
      "==================================================================================================\n",
      "Total params: 10\n",
      "Trainable params: 10\n",
      "Non-trainable params: 0\n",
      "__________________________________________________________________________________________________\n",
      "Epoch 1/1\n",
      "1000000/1000000 [==============================] - 25s 25us/step - loss: -4.7883\n"
     ]
    },
    {
     "data": {
      "text/plain": [
       "<keras.callbacks.History at 0x7f27afa61e10>"
      ]
     },
     "execution_count": 310,
     "metadata": {},
     "output_type": "execute_result"
    }
   ],
   "source": [
    "import keras\n",
    "\n",
    "inl = keras.layers.Input((10,))\n",
    "out = keras.layers.Dense(1, use_bias=False)(inl)\n",
    "off = keras.layers.Input((1,))\n",
    "out = keras.layers.add([out, off])\n",
    "out = keras.layers.Lambda(lambda x: keras.backend.exp(x))(out)\n",
    "\n",
    "model = keras.models.Model([inl, off], out)\n",
    "\n",
    "model.compile(keras.optimizers.Adam(1e-3), 'poisson')\n",
    "model.summary()\n",
    "model.fit([df[np.arange(10)], np.log(df['offset'])], df['cnt'], verbose=1)"
   ]
  },
  {
   "cell_type": "code",
   "execution_count": 311,
   "metadata": {},
   "outputs": [
    {
     "data": {
      "text/plain": [
       "array([-0.09250503, -0.19198173, -0.04260972, -0.02864283,  0.11696044,\n",
       "        0.20959049,  0.29357442, -0.02965078,  0.23306984,  0.48882231], dtype=float32)"
      ]
     },
     "execution_count": 311,
     "metadata": {},
     "output_type": "execute_result"
    }
   ],
   "source": [
    "model.get_weights()[0].ravel()"
   ]
  },
  {
   "cell_type": "code",
   "execution_count": null,
   "metadata": {
    "collapsed": true
   },
   "outputs": [],
   "source": [
    "# now with unequal number of exposures we need to use the offsets correctly to get the right answer"
   ]
  },
  {
   "cell_type": "code",
   "execution_count": 341,
   "metadata": {},
   "outputs": [
    {
     "data": {
      "text/plain": [
       "((5050, 1), (5050,))"
      ]
     },
     "execution_count": 341,
     "metadata": {},
     "output_type": "execute_result"
    }
   ],
   "source": [
    "offsets = np.arange(1, 101)\n",
    "import itertools\n",
    "offsets=np.array(list(itertools.chain.from_iterable([np.repeat(i, off) for i, off in enumerate(offsets)])))\n",
    "X=np.array([x/100 for x in offsets])[:, np.newaxis]\n",
    "X.shape, offsets.shape"
   ]
  },
  {
   "cell_type": "code",
   "execution_count": 342,
   "metadata": {},
   "outputs": [
    {
     "data": {
      "text/plain": [
       "(5050,)"
      ]
     },
     "execution_count": 342,
     "metadata": {},
     "output_type": "execute_result"
    }
   ],
   "source": [
    "y=np.random.poisson(np.exp(X*1.2+.33)).ravel()\n",
    "y.shape"
   ]
  },
  {
   "cell_type": "code",
   "execution_count": 343,
   "metadata": {},
   "outputs": [
    {
     "data": {
      "text/html": [
       "<table class=\"simpletable\">\n",
       "<caption>Generalized Linear Model Regression Results</caption>\n",
       "<tr>\n",
       "  <th>Dep. Variable:</th>          <td>y</td>        <th>  No. Observations:  </th>  <td>  5050</td> \n",
       "</tr>\n",
       "<tr>\n",
       "  <th>Model:</th>                 <td>GLM</td>       <th>  Df Residuals:      </th>  <td>  5048</td> \n",
       "</tr>\n",
       "<tr>\n",
       "  <th>Model Family:</th>        <td>Poisson</td>     <th>  Df Model:          </th>  <td>     1</td> \n",
       "</tr>\n",
       "<tr>\n",
       "  <th>Link Function:</th>         <td>log</td>       <th>  Scale:             </th>    <td>1.0</td>  \n",
       "</tr>\n",
       "<tr>\n",
       "  <th>Method:</th>               <td>IRLS</td>       <th>  Log-Likelihood:    </th> <td> -9733.6</td>\n",
       "</tr>\n",
       "<tr>\n",
       "  <th>Date:</th>           <td>Mon, 12 Feb 2018</td> <th>  Deviance:          </th> <td>  5327.1</td>\n",
       "</tr>\n",
       "<tr>\n",
       "  <th>Time:</th>               <td>22:54:05</td>     <th>  Pearson chi2:      </th> <td>4.88e+03</td>\n",
       "</tr>\n",
       "<tr>\n",
       "  <th>No. Iterations:</th>         <td>4</td>        <th>                     </th>     <td> </td>   \n",
       "</tr>\n",
       "</table>\n",
       "<table class=\"simpletable\">\n",
       "<tr>\n",
       "    <td></td>       <th>coef</th>     <th>std err</th>      <th>z</th>      <th>P>|z|</th>  <th>[0.025</th>    <th>0.975]</th>  \n",
       "</tr>\n",
       "<tr>\n",
       "  <th>const</th> <td>    0.3279</td> <td>    0.028</td> <td>   11.874</td> <td> 0.000</td> <td>    0.274</td> <td>    0.382</td>\n",
       "</tr>\n",
       "<tr>\n",
       "  <th>x1</th>    <td>    1.2006</td> <td>    0.037</td> <td>   32.733</td> <td> 0.000</td> <td>    1.129</td> <td>    1.272</td>\n",
       "</tr>\n",
       "</table>"
      ],
      "text/plain": [
       "<class 'statsmodels.iolib.summary.Summary'>\n",
       "\"\"\"\n",
       "                 Generalized Linear Model Regression Results                  \n",
       "==============================================================================\n",
       "Dep. Variable:                      y   No. Observations:                 5050\n",
       "Model:                            GLM   Df Residuals:                     5048\n",
       "Model Family:                 Poisson   Df Model:                            1\n",
       "Link Function:                    log   Scale:                             1.0\n",
       "Method:                          IRLS   Log-Likelihood:                -9733.6\n",
       "Date:                Mon, 12 Feb 2018   Deviance:                       5327.1\n",
       "Time:                        22:54:05   Pearson chi2:                 4.88e+03\n",
       "No. Iterations:                     4                                         \n",
       "==============================================================================\n",
       "                 coef    std err          z      P>|z|      [0.025      0.975]\n",
       "------------------------------------------------------------------------------\n",
       "const          0.3279      0.028     11.874      0.000       0.274       0.382\n",
       "x1             1.2006      0.037     32.733      0.000       1.129       1.272\n",
       "==============================================================================\n",
       "\"\"\""
      ]
     },
     "execution_count": 343,
     "metadata": {},
     "output_type": "execute_result"
    }
   ],
   "source": [
    "mod = sm.GLM(y, sm.add_constant(X), family=sm.families.Poisson())\n",
    "\n",
    "mod = mod.fit()\n",
    "\n",
    "mod.summary()"
   ]
  },
  {
   "cell_type": "code",
   "execution_count": 345,
   "metadata": {},
   "outputs": [
    {
     "data": {
      "text/plain": [
       "((100, 1), (100,))"
      ]
     },
     "execution_count": 345,
     "metadata": {},
     "output_type": "execute_result"
    }
   ],
   "source": [
    "Xg=pd.DataFrame(X).groupby(offsets).mean().values\n",
    "yg=pd.DataFrame(y).groupby(offsets).sum().values.ravel()\n",
    "Xg.shape, yg.shape"
   ]
  },
  {
   "cell_type": "code",
   "execution_count": 346,
   "metadata": {},
   "outputs": [],
   "source": [
    "offsetsg = pd.DataFrame(offsets).groupby(offsets).size().values.ravel()"
   ]
  },
  {
   "cell_type": "code",
   "execution_count": 347,
   "metadata": {},
   "outputs": [
    {
     "data": {
      "text/html": [
       "<table class=\"simpletable\">\n",
       "<caption>Generalized Linear Model Regression Results</caption>\n",
       "<tr>\n",
       "  <th>Dep. Variable:</th>          <td>y</td>        <th>  No. Observations:  </th>  <td>   100</td> \n",
       "</tr>\n",
       "<tr>\n",
       "  <th>Model:</th>                 <td>GLM</td>       <th>  Df Residuals:      </th>  <td>    98</td> \n",
       "</tr>\n",
       "<tr>\n",
       "  <th>Model Family:</th>        <td>Poisson</td>     <th>  Df Model:          </th>  <td>     1</td> \n",
       "</tr>\n",
       "<tr>\n",
       "  <th>Link Function:</th>         <td>log</td>       <th>  Scale:             </th>    <td>1.0</td>  \n",
       "</tr>\n",
       "<tr>\n",
       "  <th>Method:</th>               <td>IRLS</td>       <th>  Log-Likelihood:    </th> <td> -368.64</td>\n",
       "</tr>\n",
       "<tr>\n",
       "  <th>Date:</th>           <td>Mon, 12 Feb 2018</td> <th>  Deviance:          </th> <td>  97.737</td>\n",
       "</tr>\n",
       "<tr>\n",
       "  <th>Time:</th>               <td>22:56:15</td>     <th>  Pearson chi2:      </th>  <td>  98.3</td> \n",
       "</tr>\n",
       "<tr>\n",
       "  <th>No. Iterations:</th>         <td>5</td>        <th>                     </th>     <td> </td>   \n",
       "</tr>\n",
       "</table>\n",
       "<table class=\"simpletable\">\n",
       "<tr>\n",
       "    <td></td>       <th>coef</th>     <th>std err</th>      <th>z</th>      <th>P>|z|</th>  <th>[0.025</th>    <th>0.975]</th>  \n",
       "</tr>\n",
       "<tr>\n",
       "  <th>const</th> <td>    0.3279</td> <td>    0.028</td> <td>   11.874</td> <td> 0.000</td> <td>    0.274</td> <td>    0.382</td>\n",
       "</tr>\n",
       "<tr>\n",
       "  <th>x1</th>    <td>    1.2006</td> <td>    0.037</td> <td>   32.733</td> <td> 0.000</td> <td>    1.129</td> <td>    1.272</td>\n",
       "</tr>\n",
       "</table>"
      ],
      "text/plain": [
       "<class 'statsmodels.iolib.summary.Summary'>\n",
       "\"\"\"\n",
       "                 Generalized Linear Model Regression Results                  \n",
       "==============================================================================\n",
       "Dep. Variable:                      y   No. Observations:                  100\n",
       "Model:                            GLM   Df Residuals:                       98\n",
       "Model Family:                 Poisson   Df Model:                            1\n",
       "Link Function:                    log   Scale:                             1.0\n",
       "Method:                          IRLS   Log-Likelihood:                -368.64\n",
       "Date:                Mon, 12 Feb 2018   Deviance:                       97.737\n",
       "Time:                        22:56:15   Pearson chi2:                     98.3\n",
       "No. Iterations:                     5                                         \n",
       "==============================================================================\n",
       "                 coef    std err          z      P>|z|      [0.025      0.975]\n",
       "------------------------------------------------------------------------------\n",
       "const          0.3279      0.028     11.874      0.000       0.274       0.382\n",
       "x1             1.2006      0.037     32.733      0.000       1.129       1.272\n",
       "==============================================================================\n",
       "\"\"\""
      ]
     },
     "execution_count": 347,
     "metadata": {},
     "output_type": "execute_result"
    }
   ],
   "source": [
    "mod = sm.GLM(yg, sm.add_constant(Xg), offset=np.log(offsetsg), family=sm.families.Poisson())\n",
    "\n",
    "mod = mod.fit()\n",
    "\n",
    "mod.summary()"
   ]
  },
  {
   "cell_type": "code",
   "execution_count": 348,
   "metadata": {},
   "outputs": [
    {
     "data": {
      "text/html": [
       "<table class=\"simpletable\">\n",
       "<caption>Generalized Linear Model Regression Results</caption>\n",
       "<tr>\n",
       "  <th>Dep. Variable:</th>          <td>y</td>        <th>  No. Observations:  </th>  <td>   100</td> \n",
       "</tr>\n",
       "<tr>\n",
       "  <th>Model:</th>                 <td>GLM</td>       <th>  Df Residuals:      </th>  <td>    98</td> \n",
       "</tr>\n",
       "<tr>\n",
       "  <th>Model Family:</th>        <td>Poisson</td>     <th>  Df Model:          </th>  <td>     1</td> \n",
       "</tr>\n",
       "<tr>\n",
       "  <th>Link Function:</th>         <td>log</td>       <th>  Scale:             </th>    <td>1.0</td>  \n",
       "</tr>\n",
       "<tr>\n",
       "  <th>Method:</th>               <td>IRLS</td>       <th>  Log-Likelihood:    </th> <td> -144.13</td>\n",
       "</tr>\n",
       "<tr>\n",
       "  <th>Date:</th>           <td>Mon, 12 Feb 2018</td> <th>  Deviance:          </th> <td>  5.7707</td>\n",
       "</tr>\n",
       "<tr>\n",
       "  <th>Time:</th>               <td>22:57:02</td>     <th>  Pearson chi2:      </th>  <td>  6.43</td> \n",
       "</tr>\n",
       "<tr>\n",
       "  <th>No. Iterations:</th>         <td>4</td>        <th>                     </th>     <td> </td>   \n",
       "</tr>\n",
       "</table>\n",
       "<table class=\"simpletable\">\n",
       "<tr>\n",
       "    <td></td>       <th>coef</th>     <th>std err</th>      <th>z</th>      <th>P>|z|</th>  <th>[0.025</th>    <th>0.975]</th>  \n",
       "</tr>\n",
       "<tr>\n",
       "  <th>const</th> <td>    0.3547</td> <td>    0.143</td> <td>    2.485</td> <td> 0.013</td> <td>    0.075</td> <td>    0.634</td>\n",
       "</tr>\n",
       "<tr>\n",
       "  <th>x1</th>    <td>    1.1635</td> <td>    0.219</td> <td>    5.320</td> <td> 0.000</td> <td>    0.735</td> <td>    1.592</td>\n",
       "</tr>\n",
       "</table>"
      ],
      "text/plain": [
       "<class 'statsmodels.iolib.summary.Summary'>\n",
       "\"\"\"\n",
       "                 Generalized Linear Model Regression Results                  \n",
       "==============================================================================\n",
       "Dep. Variable:                      y   No. Observations:                  100\n",
       "Model:                            GLM   Df Residuals:                       98\n",
       "Model Family:                 Poisson   Df Model:                            1\n",
       "Link Function:                    log   Scale:                             1.0\n",
       "Method:                          IRLS   Log-Likelihood:                -144.13\n",
       "Date:                Mon, 12 Feb 2018   Deviance:                       5.7707\n",
       "Time:                        22:57:02   Pearson chi2:                     6.43\n",
       "No. Iterations:                     4                                         \n",
       "==============================================================================\n",
       "                 coef    std err          z      P>|z|      [0.025      0.975]\n",
       "------------------------------------------------------------------------------\n",
       "const          0.3547      0.143      2.485      0.013       0.075       0.634\n",
       "x1             1.1635      0.219      5.320      0.000       0.735       1.592\n",
       "==============================================================================\n",
       "\"\"\""
      ]
     },
     "execution_count": 348,
     "metadata": {},
     "output_type": "execute_result"
    }
   ],
   "source": [
    "mod = sm.GLM(yg/offsetsg, sm.add_constant(Xg), family=sm.families.Poisson())\n",
    "\n",
    "mod = mod.fit()\n",
    "mod.summary()"
   ]
  },
  {
   "cell_type": "code",
   "execution_count": 349,
   "metadata": {
    "collapsed": true
   },
   "outputs": [],
   "source": [
    "# wow amazing dividing by exposures doesn't work!!!! Guess you actually have use the math to be correct :)"
   ]
  },
  {
   "cell_type": "code",
   "execution_count": 350,
   "metadata": {
    "collapsed": true
   },
   "outputs": [],
   "source": [
    "# bonus let's try tensorflow"
   ]
  },
  {
   "cell_type": "code",
   "execution_count": null,
   "metadata": {
    "collapsed": true
   },
   "outputs": [],
   "source": []
  },
  {
   "cell_type": "code",
   "execution_count": 465,
   "metadata": {},
   "outputs": [
    {
     "name": "stdout",
     "output_type": "stream",
     "text": [
      "__________________________________________________________________________________________________\n",
      "Layer (type)                    Output Shape         Param #     Connected to                     \n",
      "==================================================================================================\n",
      "input_145 (InputLayer)          (None, 2)            0                                            \n",
      "__________________________________________________________________________________________________\n",
      "dense_79 (Dense)                (None, 1)            2           input_145[0][0]                  \n",
      "__________________________________________________________________________________________________\n",
      "input_146 (InputLayer)          (None, 1)            0                                            \n",
      "__________________________________________________________________________________________________\n",
      "add_60 (Add)                    (None, 1)            0           dense_79[0][0]                   \n",
      "                                                                 input_146[0][0]                  \n",
      "__________________________________________________________________________________________________\n",
      "lambda_75 (Lambda)              (None, 1)            0           add_60[0][0]                     \n",
      "==================================================================================================\n",
      "Total params: 2\n",
      "Trainable params: 2\n",
      "Non-trainable params: 0\n",
      "__________________________________________________________________________________________________\n",
      "Epoch 1/1\n",
      "100/100 [==============================] - 1s 6ms/step - loss: -499.4098\n"
     ]
    },
    {
     "data": {
      "text/plain": [
       "<keras.callbacks.History at 0x7f27a15dfe80>"
      ]
     },
     "execution_count": 465,
     "metadata": {},
     "output_type": "execute_result"
    }
   ],
   "source": [
    "import keras\n",
    "\n",
    "inl = keras.layers.Input((2,))\n",
    "out = keras.layers.Dense(1, use_bias=False)(inl)\n",
    "off = keras.layers.Input((1,))\n",
    "out = keras.layers.add([out, off])\n",
    "out = keras.layers.Lambda(lambda x: keras.backend.exp(x))(out)\n",
    "\n",
    "model = keras.models.Model([inl, off], out)\n",
    "\n",
    "model.compile(keras.optimizers.SGD(1e-19), 'poisson')\n",
    "model.summary()\n",
    "model.fit([sm.add_constant(Xg), np.log(offsetsg)], yg, verbose=1, epochs=1)"
   ]
  },
  {
   "cell_type": "code",
   "execution_count": 466,
   "metadata": {},
   "outputs": [
    {
     "data": {
      "text/plain": [
       "array([[-1.10750854],\n",
       "       [ 0.13667548]], dtype=float32)"
      ]
     },
     "execution_count": 466,
     "metadata": {},
     "output_type": "execute_result"
    }
   ],
   "source": [
    "model.get_weights()[0]"
   ]
  },
  {
   "cell_type": "code",
   "execution_count": null,
   "metadata": {
    "collapsed": true
   },
   "outputs": [],
   "source": []
  }
 ],
 "metadata": {
  "kernelspec": {
   "display_name": "Python 3",
   "language": "python",
   "name": "python3"
  },
  "language_info": {
   "codemirror_mode": {
    "name": "ipython",
    "version": 3
   },
   "file_extension": ".py",
   "mimetype": "text/x-python",
   "name": "python",
   "nbconvert_exporter": "python",
   "pygments_lexer": "ipython3",
   "version": "3.6.7"
  }
 },
 "nbformat": 4,
 "nbformat_minor": 2
}
