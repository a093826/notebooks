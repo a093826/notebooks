{
 "cells": [
  {
   "cell_type": "markdown",
   "metadata": {},
   "source": [
    "As shown in this github issue: https://github.com/scikit-learn/scikit-learn/issues/5975\n",
    "\n",
    "I've had many arguements that for poisson regression Counts/Exposures is equivalent to handling the offsets in the optimization loop explicitly. This isn't true as shown later on in this notebook.\n",
    "\n",
    "The notebook also shows how to do poisson regression with offsets in tensorflow. Pretty baller right."
   ]
  },
  {
   "cell_type": "code",
   "execution_count": null,
   "metadata": {},
   "outputs": [],
   "source": [
    "import numpy as np\n",
    "import pandas as pd"
   ]
  },
  {
   "cell_type": "code",
   "execution_count": null,
   "metadata": {},
   "outputs": [],
   "source": [
    "np.random.seed(333)\n",
    "n = 1000000\n",
    "df = pd.DataFrame(\n",
    "    np.random.normal(np.tile(np.arange(10), n), np.tile(np.arange(1, 11) * 2, n), (n * 10)).reshape((n, 10)) / 100)\n",
    "wts = np.array([-0.1, -0.2, 0, 0, 0.1, 0.2, 0.3, 0.0, 0.25, 0.5])\n",
    "df['y'] = (df.values * wts).sum(axis=1)\n",
    "df['rate'] = np.exp(df['y'])"
   ]
  },
  {
   "cell_type": "code",
   "execution_count": null,
   "metadata": {},
   "outputs": [],
   "source": [
    "df.describe()"
   ]
  },
  {
   "cell_type": "code",
   "execution_count": null,
   "metadata": {},
   "outputs": [],
   "source": [
    "%matplotlib inline\n",
    "df.rate.hist()"
   ]
  },
  {
   "cell_type": "code",
   "execution_count": null,
   "metadata": {},
   "outputs": [],
   "source": [
    "df['offset'] = np.random.randint(1, 10, n)"
   ]
  },
  {
   "cell_type": "code",
   "execution_count": null,
   "metadata": {},
   "outputs": [],
   "source": [
    "(np.random.poisson(df['rate'], (10, n)).T.mean(axis=1) - df.rate).hist()"
   ]
  },
  {
   "cell_type": "code",
   "execution_count": null,
   "metadata": {},
   "outputs": [],
   "source": [
    "df['cnt'] = np.random.poisson(df['rate'])\n",
    "df.cnt.hist()"
   ]
  },
  {
   "cell_type": "code",
   "execution_count": null,
   "metadata": {},
   "outputs": [],
   "source": [
    "import statsmodels.api as sm\n",
    "\n",
    "\n",
    "mod = sm.GLM(df['cnt'], df[np.arange(10)], family=sm.families.Poisson())\n",
    "\n",
    "mod = mod.fit()\n",
    "\n",
    "mod.summary()"
   ]
  },
  {
   "cell_type": "code",
   "execution_count": null,
   "metadata": {},
   "outputs": [],
   "source": [
    "df['cnt'] = [np.random.poisson(rate, offset).sum() for rate, offset in zip(df['rate'], df['offset'])]"
   ]
  },
  {
   "cell_type": "code",
   "execution_count": null,
   "metadata": {},
   "outputs": [],
   "source": [
    "df.cnt.hist()"
   ]
  },
  {
   "cell_type": "code",
   "execution_count": null,
   "metadata": {},
   "outputs": [],
   "source": [
    "import statsmodels.api as sm\n",
    "\n",
    "\n",
    "mod = sm.GLM(df['cnt'], df[np.arange(10)], offset=np.log(df['offset']), family=sm.families.Poisson())\n",
    "\n",
    "mod = mod.fit()\n",
    "\n",
    "mod.summary()"
   ]
  },
  {
   "cell_type": "code",
   "execution_count": null,
   "metadata": {},
   "outputs": [],
   "source": [
    "import statsmodels.api as sm\n",
    "\n",
    "\n",
    "mod = sm.GLM(df['cnt'] / df['offset'], df[np.arange(10)], family=sm.families.Poisson())\n",
    "\n",
    "mod = mod.fit()\n",
    "\n",
    "mod.summary()"
   ]
  },
  {
   "cell_type": "code",
   "execution_count": null,
   "metadata": {},
   "outputs": [],
   "source": [
    "from pyglmnet import GLM\n",
    "\n",
    "# create an instance of the GLM class\n",
    "glm = GLM(distr='poisson')\n",
    "glm = glm.fit(df[np.arange(10)].values, df['cnt'].values/df['offset'].values)\n",
    "glm"
   ]
  },
  {
   "cell_type": "code",
   "execution_count": null,
   "metadata": {},
   "outputs": [],
   "source": [
    "glm.get_params()"
   ]
  },
  {
   "cell_type": "code",
   "execution_count": null,
   "metadata": {},
   "outputs": [],
   "source": [
    "import keras\n",
    "\n",
    "inl = keras.layers.Input((10,))\n",
    "out = keras.layers.Dense(1, use_bias=False)(inl)\n",
    "out = keras.layers.Lambda(lambda x: keras.backend.exp(x))(out)\n",
    "model = keras.models.Model(inl, out)\n",
    "\n",
    "model.compile(keras.optimizers.Adam(1e-3), 'poisson')\n",
    "model.summary()\n",
    "model.fit(df[np.arange(10)], df['cnt']/df['offset'], verbose=1)"
   ]
  },
  {
   "cell_type": "code",
   "execution_count": null,
   "metadata": {},
   "outputs": [],
   "source": [
    "model.get_weights()[0].ravel()"
   ]
  },
  {
   "cell_type": "code",
   "execution_count": null,
   "metadata": {},
   "outputs": [],
   "source": []
  },
  {
   "cell_type": "code",
   "execution_count": null,
   "metadata": {},
   "outputs": [],
   "source": [
    "import keras\n",
    "\n",
    "inl = keras.layers.Input((10,))\n",
    "out = keras.layers.Dense(1, use_bias=False)(inl)\n",
    "off = keras.layers.Input((1,))\n",
    "out = keras.layers.add([out, off])\n",
    "out = keras.layers.Lambda(lambda x: keras.backend.exp(x))(out)\n",
    "\n",
    "model = keras.models.Model([inl, off], out)\n",
    "\n",
    "model.compile(keras.optimizers.Adam(1e-3), 'poisson')\n",
    "model.summary()\n",
    "model.fit([df[np.arange(10)], np.log(df['offset'])], df['cnt'], verbose=1)"
   ]
  },
  {
   "cell_type": "code",
   "execution_count": null,
   "metadata": {},
   "outputs": [],
   "source": [
    "model.get_weights()[0].ravel()"
   ]
  },
  {
   "cell_type": "code",
   "execution_count": null,
   "metadata": {},
   "outputs": [],
   "source": [
    "# now with unequal number of exposures we need to use the offsets correctly to get the right answer"
   ]
  },
  {
   "cell_type": "code",
   "execution_count": null,
   "metadata": {},
   "outputs": [],
   "source": [
    "offsets = np.arange(1, 101)\n",
    "import itertools\n",
    "offsets=np.array(list(itertools.chain.from_iterable([np.repeat(i, off) for i, off in enumerate(offsets)])))\n",
    "X=np.array([x/100 for x in offsets])[:, np.newaxis]\n",
    "X.shape, offsets.shape"
   ]
  },
  {
   "cell_type": "code",
   "execution_count": null,
   "metadata": {},
   "outputs": [],
   "source": [
    "y=np.random.poisson(np.exp(X*1.2+.33)).ravel()\n",
    "y.shape"
   ]
  },
  {
   "cell_type": "code",
   "execution_count": null,
   "metadata": {},
   "outputs": [],
   "source": [
    "mod = sm.GLM(y, sm.add_constant(X), family=sm.families.Poisson())\n",
    "\n",
    "mod = mod.fit()\n",
    "\n",
    "mod.summary()"
   ]
  },
  {
   "cell_type": "code",
   "execution_count": null,
   "metadata": {},
   "outputs": [],
   "source": [
    "Xg=pd.DataFrame(X).groupby(offsets).mean().values\n",
    "yg=pd.DataFrame(y).groupby(offsets).sum().values.ravel()\n",
    "Xg.shape, yg.shape"
   ]
  },
  {
   "cell_type": "code",
   "execution_count": null,
   "metadata": {},
   "outputs": [],
   "source": [
    "offsetsg = pd.DataFrame(offsets).groupby(offsets).size().values.ravel()"
   ]
  },
  {
   "cell_type": "code",
   "execution_count": null,
   "metadata": {},
   "outputs": [],
   "source": [
    "mod = sm.GLM(yg, sm.add_constant(Xg), offset=np.log(offsetsg), family=sm.families.Poisson())\n",
    "\n",
    "mod = mod.fit()\n",
    "\n",
    "mod.summary()"
   ]
  },
  {
   "cell_type": "code",
   "execution_count": null,
   "metadata": {},
   "outputs": [],
   "source": [
    "mod = sm.GLM(yg/offsetsg, sm.add_constant(Xg), family=sm.families.Poisson())\n",
    "\n",
    "mod = mod.fit()\n",
    "mod.summary()"
   ]
  },
  {
   "cell_type": "code",
   "execution_count": null,
   "metadata": {},
   "outputs": [],
   "source": [
    "# wow amazing dividing by exposures doesn't work!!!! Guess you actually have use the math to be correct :)"
   ]
  },
  {
   "cell_type": "code",
   "execution_count": null,
   "metadata": {
    "lines_to_next_cell": 0
   },
   "outputs": [],
   "source": [
    "# bonus let's try tensorflow"
   ]
  },
  {
   "cell_type": "code",
   "execution_count": null,
   "metadata": {
    "lines_to_next_cell": 2
   },
   "outputs": [],
   "source": []
  },
  {
   "cell_type": "code",
   "execution_count": null,
   "metadata": {},
   "outputs": [],
   "source": [
    "import keras\n",
    "\n",
    "inl = keras.layers.Input((2,))\n",
    "out = keras.layers.Dense(1, use_bias=False)(inl)\n",
    "off = keras.layers.Input((1,))\n",
    "out = keras.layers.add([out, off])\n",
    "out = keras.layers.Lambda(lambda x: keras.backend.exp(x))(out)\n",
    "\n",
    "model = keras.models.Model([inl, off], out)\n",
    "\n",
    "model.compile(keras.optimizers.SGD(1e-19), 'poisson')\n",
    "model.summary()\n",
    "model.fit([sm.add_constant(Xg), np.log(offsetsg)], yg, verbose=1, epochs=1)"
   ]
  },
  {
   "cell_type": "code",
   "execution_count": null,
   "metadata": {},
   "outputs": [],
   "source": [
    "model.get_weights()[0]"
   ]
  },
  {
   "cell_type": "code",
   "execution_count": null,
   "metadata": {},
   "outputs": [],
   "source": []
  }
 ],
 "metadata": {
  "jupytext": {
   "text_representation": {
    "extension": ".py",
    "format_name": "light",
    "format_version": "1.3",
    "jupytext_version": "0.8.6"
   }
  },
  "kernelspec": {
   "display_name": "Python 3",
   "language": "python",
   "name": "python3"
  }
 },
 "nbformat": 4,
 "nbformat_minor": 2
}
